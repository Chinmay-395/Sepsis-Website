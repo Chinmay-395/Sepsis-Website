{
 "metadata": {
  "language_info": {
   "codemirror_mode": {
    "name": "ipython",
    "version": 3
   },
   "file_extension": ".py",
   "mimetype": "text/x-python",
   "name": "python",
   "nbconvert_exporter": "python",
   "pygments_lexer": "ipython3",
   "version": "3.7.6-final"
  },
  "orig_nbformat": 2,
  "kernelspec": {
   "name": "python3",
   "display_name": "Python 3"
  }
 },
 "nbformat": 4,
 "nbformat_minor": 2,
 "cells": [
  {
   "cell_type": "code",
   "execution_count": 45,
   "metadata": {},
   "outputs": [],
   "source": [
    "import json\n",
    "import requests\n",
    "import redis\n",
    "import websocket\n",
    "import asyncio"
   ]
  },
  {
   "cell_type": "code",
   "execution_count": 46,
   "metadata": {},
   "outputs": [],
   "source": [
    "ws=websocket.WebSocket()"
   ]
  },
  {
   "cell_type": "code",
   "execution_count": 41,
   "metadata": {},
   "outputs": [],
   "source": [
    "ws.connect('ws://localhost:8000/sepsisDynamic/')"
   ]
  },
  {
   "cell_type": "code",
   "execution_count": 49,
   "metadata": {},
   "outputs": [],
   "source": [
    "# ADDING A HEADER\n",
    "ws.connect('ws://localhost:8000/sepsisDynamic/',\n",
    "header=[\"User-Agent: MyProgram\"])\n",
    "# # ws.connect()\n",
    "# # header=[\"User-Agent: MyProgram\",\n",
    "#         ...             \"x-custom: header\"])"
   ]
  },
  {
   "cell_type": "code",
   "execution_count": 40,
   "metadata": {},
   "outputs": [
    {
     "output_type": "stream",
     "name": "stdout",
     "text": [
      "THE VAL {\"type\": \"echo.message\", \"data\": \"This is a test message.\"}\n"
     ]
    }
   ],
   "source": [
    "ws.send(json.dumps({\n",
    "    'type': 'echo.message',\n",
    "    'data': 'This is a test message.',\n",
    "    })\n",
    ")\n",
    "some_var = ws.recv()\n",
    "print(\"THE VAL\",some_var)"
   ]
  },
  {
   "cell_type": "code",
   "execution_count": 34,
   "metadata": {},
   "outputs": [],
   "source": [
    "# import asyncio\n",
    "# import websocket\n",
    "\n",
    "# async def hello():\n",
    "#     uri = \"ws://localhost:8000/sepsisDynamic/\"\n",
    "#     async with websockets.connect(uri) as websocket:\n",
    "#         name = input(\"What's your name? \")\n",
    "\n",
    "#         await websocket.send(name)\n",
    "#         print(f\"> {name}\")\n",
    "\n",
    "#         greeting = await websocket.recv()\n",
    "#         print(f\"< {greeting}\")\n",
    "\n",
    "# asyncio.get_event_loop().run_until_complete(hello())"
   ]
  },
  {
   "source": [
    "<h1>Python websocket client with auth header </h1>"
   ],
   "cell_type": "markdown",
   "metadata": {}
  },
  {
   "cell_type": "code",
   "execution_count": null,
   "metadata": {},
   "outputs": [],
   "source": [
    "# import asyncio\n",
    "import ssl\n",
    "from socket import socket\n",
    "\n",
    "import websocket\n",
    "# import websockets\n",
    "\n",
    "def on_message(ws, message):\n",
    "    print ('message received ..')\n",
    "    print (message)\n",
    "\n",
    "\n",
    "def on_error(ws, error):\n",
    "    print ('error happened .. ')\n",
    "    print (error)\n",
    "\n",
    "\n",
    "def on_close(ws):\n",
    "    print (\"### closed ###\")\n",
    "\n",
    "\n",
    "def on_open(ws):\n",
    "\n",
    "    print ('Opening Websocket connection to the server ... ')\n",
    "\n",
    "    ## This session_key I got, need to be passed over websocket header isntad of ws.send.\n",
    "    ws.send(\"testing message here\")\n",
    "\n",
    "websocket.enableTrace(True)\n",
    "\n",
    "token = \"........\"\n",
    "auth = \"Authorization: Bearer \" + token\n",
    "ws = websocket.WebSocketApp(\"wss://APISERVER:8443/api/v1/namespaces/default/services/the-service:8889/proxy/websocket?token=123\",\n",
    "                            on_open = on_open,\n",
    "                            on_message = on_message,\n",
    "                            on_error = on_error,\n",
    "                            on_close = on_close,\n",
    "                            header = [auth]\n",
    "                            )\n",
    "\n",
    "ws.on_open = on_open\n",
    "\n",
    "##Note: this is for --insecure flag in curl, basically to tell the client not verify the ssl certificate\n",
    "ws.run_forever(sslopt={\"cert_reqs\": ssl.CERT_NONE})\n",
    "# socket.setsockopt"
   ]
  }
 ]
}